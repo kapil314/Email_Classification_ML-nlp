{
 "cells": [
  {
   "cell_type": "markdown",
   "id": "0443c347",
   "metadata": {},
   "source": [
    " # Impoting libraries "
   ]
  },
  {
   "cell_type": "code",
   "execution_count": 49,
   "id": "56ed5eaa",
   "metadata": {},
   "outputs": [],
   "source": [
    "import numpy as np\n",
    "import pandas as pd \n",
    "import matplotlib.pyplot as plt\n",
    "%matplotlib inline"
   ]
  },
  {
   "cell_type": "code",
   "execution_count": 50,
   "id": "81f2cdc6",
   "metadata": {},
   "outputs": [],
   "source": [
    "df=pd.read_csv('spam.tsv', sep='\\t') # creating dataframe to store the data"
   ]
  },
  {
   "cell_type": "code",
   "execution_count": 51,
   "id": "94a2a401",
   "metadata": {},
   "outputs": [
    {
     "data": {
      "text/html": [
       "<div>\n",
       "<style scoped>\n",
       "    .dataframe tbody tr th:only-of-type {\n",
       "        vertical-align: middle;\n",
       "    }\n",
       "\n",
       "    .dataframe tbody tr th {\n",
       "        vertical-align: top;\n",
       "    }\n",
       "\n",
       "    .dataframe thead th {\n",
       "        text-align: right;\n",
       "    }\n",
       "</style>\n",
       "<table border=\"1\" class=\"dataframe\">\n",
       "  <thead>\n",
       "    <tr style=\"text-align: right;\">\n",
       "      <th></th>\n",
       "      <th>label</th>\n",
       "      <th>message</th>\n",
       "      <th>length</th>\n",
       "      <th>punct</th>\n",
       "    </tr>\n",
       "  </thead>\n",
       "  <tbody>\n",
       "    <tr>\n",
       "      <th>0</th>\n",
       "      <td>ham</td>\n",
       "      <td>Go until jurong point, crazy.. Available only ...</td>\n",
       "      <td>111</td>\n",
       "      <td>9</td>\n",
       "    </tr>\n",
       "    <tr>\n",
       "      <th>1</th>\n",
       "      <td>ham</td>\n",
       "      <td>Ok lar... Joking wif u oni...</td>\n",
       "      <td>29</td>\n",
       "      <td>6</td>\n",
       "    </tr>\n",
       "    <tr>\n",
       "      <th>2</th>\n",
       "      <td>spam</td>\n",
       "      <td>Free entry in 2 a wkly comp to win FA Cup fina...</td>\n",
       "      <td>155</td>\n",
       "      <td>6</td>\n",
       "    </tr>\n",
       "    <tr>\n",
       "      <th>3</th>\n",
       "      <td>ham</td>\n",
       "      <td>U dun say so early hor... U c already then say...</td>\n",
       "      <td>49</td>\n",
       "      <td>6</td>\n",
       "    </tr>\n",
       "    <tr>\n",
       "      <th>4</th>\n",
       "      <td>ham</td>\n",
       "      <td>Nah I don't think he goes to usf, he lives aro...</td>\n",
       "      <td>61</td>\n",
       "      <td>2</td>\n",
       "    </tr>\n",
       "    <tr>\n",
       "      <th>...</th>\n",
       "      <td>...</td>\n",
       "      <td>...</td>\n",
       "      <td>...</td>\n",
       "      <td>...</td>\n",
       "    </tr>\n",
       "    <tr>\n",
       "      <th>5567</th>\n",
       "      <td>spam</td>\n",
       "      <td>This is the 2nd time we have tried 2 contact u...</td>\n",
       "      <td>160</td>\n",
       "      <td>8</td>\n",
       "    </tr>\n",
       "    <tr>\n",
       "      <th>5568</th>\n",
       "      <td>ham</td>\n",
       "      <td>Will ü b going to esplanade fr home?</td>\n",
       "      <td>36</td>\n",
       "      <td>1</td>\n",
       "    </tr>\n",
       "    <tr>\n",
       "      <th>5569</th>\n",
       "      <td>ham</td>\n",
       "      <td>Pity, * was in mood for that. So...any other s...</td>\n",
       "      <td>57</td>\n",
       "      <td>7</td>\n",
       "    </tr>\n",
       "    <tr>\n",
       "      <th>5570</th>\n",
       "      <td>ham</td>\n",
       "      <td>The guy did some bitching but I acted like i'd...</td>\n",
       "      <td>125</td>\n",
       "      <td>1</td>\n",
       "    </tr>\n",
       "    <tr>\n",
       "      <th>5571</th>\n",
       "      <td>ham</td>\n",
       "      <td>Rofl. Its true to its name</td>\n",
       "      <td>26</td>\n",
       "      <td>1</td>\n",
       "    </tr>\n",
       "  </tbody>\n",
       "</table>\n",
       "<p>5572 rows × 4 columns</p>\n",
       "</div>"
      ],
      "text/plain": [
       "     label                                            message  length  punct\n",
       "0      ham  Go until jurong point, crazy.. Available only ...     111      9\n",
       "1      ham                      Ok lar... Joking wif u oni...      29      6\n",
       "2     spam  Free entry in 2 a wkly comp to win FA Cup fina...     155      6\n",
       "3      ham  U dun say so early hor... U c already then say...      49      6\n",
       "4      ham  Nah I don't think he goes to usf, he lives aro...      61      2\n",
       "...    ...                                                ...     ...    ...\n",
       "5567  spam  This is the 2nd time we have tried 2 contact u...     160      8\n",
       "5568   ham               Will ü b going to esplanade fr home?      36      1\n",
       "5569   ham  Pity, * was in mood for that. So...any other s...      57      7\n",
       "5570   ham  The guy did some bitching but I acted like i'd...     125      1\n",
       "5571   ham                         Rofl. Its true to its name      26      1\n",
       "\n",
       "[5572 rows x 4 columns]"
      ]
     },
     "execution_count": 51,
     "metadata": {},
     "output_type": "execute_result"
    }
   ],
   "source": [
    "df    # viewing content"
   ]
  },
  {
   "cell_type": "code",
   "execution_count": 52,
   "id": "bfdf84cd",
   "metadata": {},
   "outputs": [
    {
     "data": {
      "text/html": [
       "<div>\n",
       "<style scoped>\n",
       "    .dataframe tbody tr th:only-of-type {\n",
       "        vertical-align: middle;\n",
       "    }\n",
       "\n",
       "    .dataframe tbody tr th {\n",
       "        vertical-align: top;\n",
       "    }\n",
       "\n",
       "    .dataframe thead th {\n",
       "        text-align: right;\n",
       "    }\n",
       "</style>\n",
       "<table border=\"1\" class=\"dataframe\">\n",
       "  <thead>\n",
       "    <tr style=\"text-align: right;\">\n",
       "      <th></th>\n",
       "      <th>label</th>\n",
       "      <th>message</th>\n",
       "      <th>length</th>\n",
       "      <th>punct</th>\n",
       "    </tr>\n",
       "  </thead>\n",
       "  <tbody>\n",
       "    <tr>\n",
       "      <th>0</th>\n",
       "      <td>ham</td>\n",
       "      <td>Go until jurong point, crazy.. Available only ...</td>\n",
       "      <td>111</td>\n",
       "      <td>9</td>\n",
       "    </tr>\n",
       "    <tr>\n",
       "      <th>1</th>\n",
       "      <td>ham</td>\n",
       "      <td>Ok lar... Joking wif u oni...</td>\n",
       "      <td>29</td>\n",
       "      <td>6</td>\n",
       "    </tr>\n",
       "    <tr>\n",
       "      <th>2</th>\n",
       "      <td>spam</td>\n",
       "      <td>Free entry in 2 a wkly comp to win FA Cup fina...</td>\n",
       "      <td>155</td>\n",
       "      <td>6</td>\n",
       "    </tr>\n",
       "    <tr>\n",
       "      <th>3</th>\n",
       "      <td>ham</td>\n",
       "      <td>U dun say so early hor... U c already then say...</td>\n",
       "      <td>49</td>\n",
       "      <td>6</td>\n",
       "    </tr>\n",
       "    <tr>\n",
       "      <th>4</th>\n",
       "      <td>ham</td>\n",
       "      <td>Nah I don't think he goes to usf, he lives aro...</td>\n",
       "      <td>61</td>\n",
       "      <td>2</td>\n",
       "    </tr>\n",
       "  </tbody>\n",
       "</table>\n",
       "</div>"
      ],
      "text/plain": [
       "  label                                            message  length  punct\n",
       "0   ham  Go until jurong point, crazy.. Available only ...     111      9\n",
       "1   ham                      Ok lar... Joking wif u oni...      29      6\n",
       "2  spam  Free entry in 2 a wkly comp to win FA Cup fina...     155      6\n",
       "3   ham  U dun say so early hor... U c already then say...      49      6\n",
       "4   ham  Nah I don't think he goes to usf, he lives aro...      61      2"
      ]
     },
     "execution_count": 52,
     "metadata": {},
     "output_type": "execute_result"
    }
   ],
   "source": [
    "df.head()"
   ]
  },
  {
   "cell_type": "code",
   "execution_count": 53,
   "id": "eb480e7c",
   "metadata": {},
   "outputs": [
    {
     "name": "stdout",
     "output_type": "stream",
     "text": [
      "<class 'pandas.core.frame.DataFrame'>\n",
      "RangeIndex: 5572 entries, 0 to 5571\n",
      "Data columns (total 4 columns):\n",
      " #   Column   Non-Null Count  Dtype \n",
      "---  ------   --------------  ----- \n",
      " 0   label    5572 non-null   object\n",
      " 1   message  5572 non-null   object\n",
      " 2   length   5572 non-null   int64 \n",
      " 3   punct    5572 non-null   int64 \n",
      "dtypes: int64(2), object(2)\n",
      "memory usage: 174.2+ KB\n"
     ]
    }
   ],
   "source": [
    "df.info()  # Looking information of dataset"
   ]
  },
  {
   "cell_type": "code",
   "execution_count": 54,
   "id": "e8c24dd0",
   "metadata": {},
   "outputs": [
    {
     "data": {
      "text/plain": [
       "<bound method NDFrame.describe of      label                                            message  length  punct\n",
       "0      ham  Go until jurong point, crazy.. Available only ...     111      9\n",
       "1      ham                      Ok lar... Joking wif u oni...      29      6\n",
       "2     spam  Free entry in 2 a wkly comp to win FA Cup fina...     155      6\n",
       "3      ham  U dun say so early hor... U c already then say...      49      6\n",
       "4      ham  Nah I don't think he goes to usf, he lives aro...      61      2\n",
       "...    ...                                                ...     ...    ...\n",
       "5567  spam  This is the 2nd time we have tried 2 contact u...     160      8\n",
       "5568   ham               Will ü b going to esplanade fr home?      36      1\n",
       "5569   ham  Pity, * was in mood for that. So...any other s...      57      7\n",
       "5570   ham  The guy did some bitching but I acted like i'd...     125      1\n",
       "5571   ham                         Rofl. Its true to its name      26      1\n",
       "\n",
       "[5572 rows x 4 columns]>"
      ]
     },
     "execution_count": 54,
     "metadata": {},
     "output_type": "execute_result"
    }
   ],
   "source": [
    "df.describe # Description"
   ]
  },
  {
   "cell_type": "code",
   "execution_count": 55,
   "id": "780c8d68",
   "metadata": {},
   "outputs": [
    {
     "data": {
      "text/plain": [
       "ham     4825\n",
       "spam     747\n",
       "Name: label, dtype: int64"
      ]
     },
     "execution_count": 55,
     "metadata": {},
     "output_type": "execute_result"
    }
   ],
   "source": [
    "df['label'].value_counts()    #seeing count of ham and spam messages"
   ]
  },
  {
   "cell_type": "code",
   "execution_count": 56,
   "id": "0c73a48c",
   "metadata": {},
   "outputs": [
    {
     "data": {
      "text/plain": [
       "label      0\n",
       "message    0\n",
       "length     0\n",
       "punct      0\n",
       "dtype: int64"
      ]
     },
     "execution_count": 56,
     "metadata": {},
     "output_type": "execute_result"
    }
   ],
   "source": [
    "df.isnull().sum()     # checking for null entries if there any?"
   ]
  },
  {
   "cell_type": "markdown",
   "id": "7e52e6a0",
   "metadata": {},
   "source": [
    "# Balance the given dataset"
   ]
  },
  {
   "cell_type": "code",
   "execution_count": 13,
   "id": "d45db39c",
   "metadata": {},
   "outputs": [],
   "source": [
    "ham=df[df['label']=='ham']   # partisioning data into ham"
   ]
  },
  {
   "cell_type": "code",
   "execution_count": 14,
   "id": "48544f89",
   "metadata": {},
   "outputs": [
    {
     "data": {
      "text/html": [
       "<div>\n",
       "<style scoped>\n",
       "    .dataframe tbody tr th:only-of-type {\n",
       "        vertical-align: middle;\n",
       "    }\n",
       "\n",
       "    .dataframe tbody tr th {\n",
       "        vertical-align: top;\n",
       "    }\n",
       "\n",
       "    .dataframe thead th {\n",
       "        text-align: right;\n",
       "    }\n",
       "</style>\n",
       "<table border=\"1\" class=\"dataframe\">\n",
       "  <thead>\n",
       "    <tr style=\"text-align: right;\">\n",
       "      <th></th>\n",
       "      <th>label</th>\n",
       "      <th>message</th>\n",
       "      <th>length</th>\n",
       "      <th>punct</th>\n",
       "    </tr>\n",
       "  </thead>\n",
       "  <tbody>\n",
       "    <tr>\n",
       "      <th>0</th>\n",
       "      <td>ham</td>\n",
       "      <td>Go until jurong point, crazy.. Available only ...</td>\n",
       "      <td>111</td>\n",
       "      <td>9</td>\n",
       "    </tr>\n",
       "    <tr>\n",
       "      <th>1</th>\n",
       "      <td>ham</td>\n",
       "      <td>Ok lar... Joking wif u oni...</td>\n",
       "      <td>29</td>\n",
       "      <td>6</td>\n",
       "    </tr>\n",
       "    <tr>\n",
       "      <th>3</th>\n",
       "      <td>ham</td>\n",
       "      <td>U dun say so early hor... U c already then say...</td>\n",
       "      <td>49</td>\n",
       "      <td>6</td>\n",
       "    </tr>\n",
       "    <tr>\n",
       "      <th>4</th>\n",
       "      <td>ham</td>\n",
       "      <td>Nah I don't think he goes to usf, he lives aro...</td>\n",
       "      <td>61</td>\n",
       "      <td>2</td>\n",
       "    </tr>\n",
       "    <tr>\n",
       "      <th>6</th>\n",
       "      <td>ham</td>\n",
       "      <td>Even my brother is not like to speak with me. ...</td>\n",
       "      <td>77</td>\n",
       "      <td>2</td>\n",
       "    </tr>\n",
       "    <tr>\n",
       "      <th>...</th>\n",
       "      <td>...</td>\n",
       "      <td>...</td>\n",
       "      <td>...</td>\n",
       "      <td>...</td>\n",
       "    </tr>\n",
       "    <tr>\n",
       "      <th>5565</th>\n",
       "      <td>ham</td>\n",
       "      <td>Huh y lei...</td>\n",
       "      <td>12</td>\n",
       "      <td>3</td>\n",
       "    </tr>\n",
       "    <tr>\n",
       "      <th>5568</th>\n",
       "      <td>ham</td>\n",
       "      <td>Will ü b going to esplanade fr home?</td>\n",
       "      <td>36</td>\n",
       "      <td>1</td>\n",
       "    </tr>\n",
       "    <tr>\n",
       "      <th>5569</th>\n",
       "      <td>ham</td>\n",
       "      <td>Pity, * was in mood for that. So...any other s...</td>\n",
       "      <td>57</td>\n",
       "      <td>7</td>\n",
       "    </tr>\n",
       "    <tr>\n",
       "      <th>5570</th>\n",
       "      <td>ham</td>\n",
       "      <td>The guy did some bitching but I acted like i'd...</td>\n",
       "      <td>125</td>\n",
       "      <td>1</td>\n",
       "    </tr>\n",
       "    <tr>\n",
       "      <th>5571</th>\n",
       "      <td>ham</td>\n",
       "      <td>Rofl. Its true to its name</td>\n",
       "      <td>26</td>\n",
       "      <td>1</td>\n",
       "    </tr>\n",
       "  </tbody>\n",
       "</table>\n",
       "<p>4825 rows × 4 columns</p>\n",
       "</div>"
      ],
      "text/plain": [
       "     label                                            message  length  punct\n",
       "0      ham  Go until jurong point, crazy.. Available only ...     111      9\n",
       "1      ham                      Ok lar... Joking wif u oni...      29      6\n",
       "3      ham  U dun say so early hor... U c already then say...      49      6\n",
       "4      ham  Nah I don't think he goes to usf, he lives aro...      61      2\n",
       "6      ham  Even my brother is not like to speak with me. ...      77      2\n",
       "...    ...                                                ...     ...    ...\n",
       "5565   ham                                       Huh y lei...      12      3\n",
       "5568   ham               Will ü b going to esplanade fr home?      36      1\n",
       "5569   ham  Pity, * was in mood for that. So...any other s...      57      7\n",
       "5570   ham  The guy did some bitching but I acted like i'd...     125      1\n",
       "5571   ham                         Rofl. Its true to its name      26      1\n",
       "\n",
       "[4825 rows x 4 columns]"
      ]
     },
     "execution_count": 14,
     "metadata": {},
     "output_type": "execute_result"
    }
   ],
   "source": [
    "ham"
   ]
  },
  {
   "cell_type": "code",
   "execution_count": 15,
   "id": "243d50f3",
   "metadata": {},
   "outputs": [
    {
     "data": {
      "text/html": [
       "<div>\n",
       "<style scoped>\n",
       "    .dataframe tbody tr th:only-of-type {\n",
       "        vertical-align: middle;\n",
       "    }\n",
       "\n",
       "    .dataframe tbody tr th {\n",
       "        vertical-align: top;\n",
       "    }\n",
       "\n",
       "    .dataframe thead th {\n",
       "        text-align: right;\n",
       "    }\n",
       "</style>\n",
       "<table border=\"1\" class=\"dataframe\">\n",
       "  <thead>\n",
       "    <tr style=\"text-align: right;\">\n",
       "      <th></th>\n",
       "      <th>label</th>\n",
       "      <th>message</th>\n",
       "      <th>length</th>\n",
       "      <th>punct</th>\n",
       "    </tr>\n",
       "  </thead>\n",
       "  <tbody>\n",
       "    <tr>\n",
       "      <th>2</th>\n",
       "      <td>spam</td>\n",
       "      <td>Free entry in 2 a wkly comp to win FA Cup fina...</td>\n",
       "      <td>155</td>\n",
       "      <td>6</td>\n",
       "    </tr>\n",
       "    <tr>\n",
       "      <th>5</th>\n",
       "      <td>spam</td>\n",
       "      <td>FreeMsg Hey there darling it's been 3 week's n...</td>\n",
       "      <td>147</td>\n",
       "      <td>8</td>\n",
       "    </tr>\n",
       "    <tr>\n",
       "      <th>8</th>\n",
       "      <td>spam</td>\n",
       "      <td>WINNER!! As a valued network customer you have...</td>\n",
       "      <td>157</td>\n",
       "      <td>6</td>\n",
       "    </tr>\n",
       "    <tr>\n",
       "      <th>9</th>\n",
       "      <td>spam</td>\n",
       "      <td>Had your mobile 11 months or more? U R entitle...</td>\n",
       "      <td>154</td>\n",
       "      <td>2</td>\n",
       "    </tr>\n",
       "    <tr>\n",
       "      <th>11</th>\n",
       "      <td>spam</td>\n",
       "      <td>SIX chances to win CASH! From 100 to 20,000 po...</td>\n",
       "      <td>136</td>\n",
       "      <td>8</td>\n",
       "    </tr>\n",
       "    <tr>\n",
       "      <th>...</th>\n",
       "      <td>...</td>\n",
       "      <td>...</td>\n",
       "      <td>...</td>\n",
       "      <td>...</td>\n",
       "    </tr>\n",
       "    <tr>\n",
       "      <th>5537</th>\n",
       "      <td>spam</td>\n",
       "      <td>Want explicit SEX in 30 secs? Ring 02073162414...</td>\n",
       "      <td>90</td>\n",
       "      <td>3</td>\n",
       "    </tr>\n",
       "    <tr>\n",
       "      <th>5540</th>\n",
       "      <td>spam</td>\n",
       "      <td>ASKED 3MOBILE IF 0870 CHATLINES INCLU IN FREE ...</td>\n",
       "      <td>158</td>\n",
       "      <td>5</td>\n",
       "    </tr>\n",
       "    <tr>\n",
       "      <th>5547</th>\n",
       "      <td>spam</td>\n",
       "      <td>Had your contract mobile 11 Mnths? Latest Moto...</td>\n",
       "      <td>160</td>\n",
       "      <td>8</td>\n",
       "    </tr>\n",
       "    <tr>\n",
       "      <th>5566</th>\n",
       "      <td>spam</td>\n",
       "      <td>REMINDER FROM O2: To get 2.50 pounds free call...</td>\n",
       "      <td>147</td>\n",
       "      <td>3</td>\n",
       "    </tr>\n",
       "    <tr>\n",
       "      <th>5567</th>\n",
       "      <td>spam</td>\n",
       "      <td>This is the 2nd time we have tried 2 contact u...</td>\n",
       "      <td>160</td>\n",
       "      <td>8</td>\n",
       "    </tr>\n",
       "  </tbody>\n",
       "</table>\n",
       "<p>747 rows × 4 columns</p>\n",
       "</div>"
      ],
      "text/plain": [
       "     label                                            message  length  punct\n",
       "2     spam  Free entry in 2 a wkly comp to win FA Cup fina...     155      6\n",
       "5     spam  FreeMsg Hey there darling it's been 3 week's n...     147      8\n",
       "8     spam  WINNER!! As a valued network customer you have...     157      6\n",
       "9     spam  Had your mobile 11 months or more? U R entitle...     154      2\n",
       "11    spam  SIX chances to win CASH! From 100 to 20,000 po...     136      8\n",
       "...    ...                                                ...     ...    ...\n",
       "5537  spam  Want explicit SEX in 30 secs? Ring 02073162414...      90      3\n",
       "5540  spam  ASKED 3MOBILE IF 0870 CHATLINES INCLU IN FREE ...     158      5\n",
       "5547  spam  Had your contract mobile 11 Mnths? Latest Moto...     160      8\n",
       "5566  spam  REMINDER FROM O2: To get 2.50 pounds free call...     147      3\n",
       "5567  spam  This is the 2nd time we have tried 2 contact u...     160      8\n",
       "\n",
       "[747 rows x 4 columns]"
      ]
     },
     "execution_count": 15,
     "metadata": {},
     "output_type": "execute_result"
    }
   ],
   "source": [
    "spam=df[df['label']=='spam']   # partisioning data into spam\n",
    "spam"
   ]
  },
  {
   "cell_type": "code",
   "execution_count": 16,
   "id": "d6527c29",
   "metadata": {},
   "outputs": [
    {
     "data": {
      "text/plain": [
       "(747, 4)"
      ]
     },
     "execution_count": 16,
     "metadata": {},
     "output_type": "execute_result"
    }
   ],
   "source": [
    "ham=ham.sample(spam.shape[0])\n",
    "ham.shape                                       # making equal volume of ham and spam"
   ]
  },
  {
   "cell_type": "code",
   "execution_count": 57,
   "id": "5c30f5c0",
   "metadata": {},
   "outputs": [
    {
     "data": {
      "text/plain": [
       "((747, 4), (747, 4))"
      ]
     },
     "execution_count": 57,
     "metadata": {},
     "output_type": "execute_result"
    }
   ],
   "source": [
    "ham.shape,spam.shape                            # checking whether they are same!"
   ]
  },
  {
   "cell_type": "code",
   "execution_count": 58,
   "id": "a24b8fcf",
   "metadata": {},
   "outputs": [
    {
     "data": {
      "text/html": [
       "<div>\n",
       "<style scoped>\n",
       "    .dataframe tbody tr th:only-of-type {\n",
       "        vertical-align: middle;\n",
       "    }\n",
       "\n",
       "    .dataframe tbody tr th {\n",
       "        vertical-align: top;\n",
       "    }\n",
       "\n",
       "    .dataframe thead th {\n",
       "        text-align: right;\n",
       "    }\n",
       "</style>\n",
       "<table border=\"1\" class=\"dataframe\">\n",
       "  <thead>\n",
       "    <tr style=\"text-align: right;\">\n",
       "      <th></th>\n",
       "      <th>label</th>\n",
       "      <th>message</th>\n",
       "      <th>length</th>\n",
       "      <th>punct</th>\n",
       "    </tr>\n",
       "  </thead>\n",
       "  <tbody>\n",
       "    <tr>\n",
       "      <th>0</th>\n",
       "      <td>ham</td>\n",
       "      <td>Aiyah ok wat as long as got improve can alread...</td>\n",
       "      <td>54</td>\n",
       "      <td>3</td>\n",
       "    </tr>\n",
       "    <tr>\n",
       "      <th>1</th>\n",
       "      <td>ham</td>\n",
       "      <td>Hmmm:)how many players selected?</td>\n",
       "      <td>32</td>\n",
       "      <td>3</td>\n",
       "    </tr>\n",
       "    <tr>\n",
       "      <th>2</th>\n",
       "      <td>ham</td>\n",
       "      <td>Hope ur head doesn't hurt 2 much ! Am ploughin...</td>\n",
       "      <td>139</td>\n",
       "      <td>4</td>\n",
       "    </tr>\n",
       "    <tr>\n",
       "      <th>3</th>\n",
       "      <td>ham</td>\n",
       "      <td>Haha okay... Today weekend leh...</td>\n",
       "      <td>34</td>\n",
       "      <td>6</td>\n",
       "    </tr>\n",
       "    <tr>\n",
       "      <th>4</th>\n",
       "      <td>ham</td>\n",
       "      <td>Ok.</td>\n",
       "      <td>3</td>\n",
       "      <td>1</td>\n",
       "    </tr>\n",
       "    <tr>\n",
       "      <th>...</th>\n",
       "      <td>...</td>\n",
       "      <td>...</td>\n",
       "      <td>...</td>\n",
       "      <td>...</td>\n",
       "    </tr>\n",
       "    <tr>\n",
       "      <th>1489</th>\n",
       "      <td>spam</td>\n",
       "      <td>Want explicit SEX in 30 secs? Ring 02073162414...</td>\n",
       "      <td>90</td>\n",
       "      <td>3</td>\n",
       "    </tr>\n",
       "    <tr>\n",
       "      <th>1490</th>\n",
       "      <td>spam</td>\n",
       "      <td>ASKED 3MOBILE IF 0870 CHATLINES INCLU IN FREE ...</td>\n",
       "      <td>158</td>\n",
       "      <td>5</td>\n",
       "    </tr>\n",
       "    <tr>\n",
       "      <th>1491</th>\n",
       "      <td>spam</td>\n",
       "      <td>Had your contract mobile 11 Mnths? Latest Moto...</td>\n",
       "      <td>160</td>\n",
       "      <td>8</td>\n",
       "    </tr>\n",
       "    <tr>\n",
       "      <th>1492</th>\n",
       "      <td>spam</td>\n",
       "      <td>REMINDER FROM O2: To get 2.50 pounds free call...</td>\n",
       "      <td>147</td>\n",
       "      <td>3</td>\n",
       "    </tr>\n",
       "    <tr>\n",
       "      <th>1493</th>\n",
       "      <td>spam</td>\n",
       "      <td>This is the 2nd time we have tried 2 contact u...</td>\n",
       "      <td>160</td>\n",
       "      <td>8</td>\n",
       "    </tr>\n",
       "  </tbody>\n",
       "</table>\n",
       "<p>1494 rows × 4 columns</p>\n",
       "</div>"
      ],
      "text/plain": [
       "     label                                            message  length  punct\n",
       "0      ham  Aiyah ok wat as long as got improve can alread...      54      3\n",
       "1      ham                   Hmmm:)how many players selected?      32      3\n",
       "2      ham  Hope ur head doesn't hurt 2 much ! Am ploughin...     139      4\n",
       "3      ham                 Haha okay... Today weekend leh...       34      6\n",
       "4      ham                                                Ok.       3      1\n",
       "...    ...                                                ...     ...    ...\n",
       "1489  spam  Want explicit SEX in 30 secs? Ring 02073162414...      90      3\n",
       "1490  spam  ASKED 3MOBILE IF 0870 CHATLINES INCLU IN FREE ...     158      5\n",
       "1491  spam  Had your contract mobile 11 Mnths? Latest Moto...     160      8\n",
       "1492  spam  REMINDER FROM O2: To get 2.50 pounds free call...     147      3\n",
       "1493  spam  This is the 2nd time we have tried 2 contact u...     160      8\n",
       "\n",
       "[1494 rows x 4 columns]"
      ]
     },
     "execution_count": 58,
     "metadata": {},
     "output_type": "execute_result"
    }
   ],
   "source": [
    "data=ham.append(spam,ignore_index=True)\n",
    "data                                            # Making a single data object by append ham and spam"
   ]
  },
  {
   "cell_type": "markdown",
   "id": "b28e7bf2",
   "metadata": {},
   "source": [
    "# Analysis of Data"
   ]
  },
  {
   "cell_type": "code",
   "execution_count": 59,
   "id": "bbeb95e3",
   "metadata": {},
   "outputs": [
    {
     "data": {
      "image/png": "[encoded data removed]",
      "text/plain": [
       "<Figure size 432x288 with 1 Axes>"
      ]
     },
     "metadata": {
      "needs_background": "light"
     },
     "output_type": "display_data"
    }
   ],
   "source": [
    "plt.hist(data[data['label']=='ham']['length'],bins=100,alpha=0.7)\n",
    "plt.hist(data[data['label']=='spam']['length'],bins=100,alpha=0.7)\n",
    "plt.show()                                                                # Viewing histogram b/t label and length"
   ]
  },
  {
   "cell_type": "code",
   "execution_count": 60,
   "id": "63e19a8a",
   "metadata": {},
   "outputs": [
    {
     "data": {
      "image/png": "[encoded data removed]",
      "text/plain": [
       "<Figure size 432x288 with 1 Axes>"
      ]
     },
     "metadata": {
      "needs_background": "light"
     },
     "output_type": "display_data"
    }
   ],
   "source": [
    "plt.hist(data[data['label']=='ham']['punct'],bins=100,alpha=0.7)\n",
    "plt.hist(data[data['label']=='spam']['punct'],bins=100,alpha=0.7)\n",
    "plt.show()                                                              # Viewing histogram b/t label and punct"
   ]
  },
  {
   "cell_type": "markdown",
   "id": "eb19cc97",
   "metadata": {},
   "source": [
    "# Preparation Of data"
   ]
  },
  {
   "cell_type": "code",
   "execution_count": 61,
   "id": "f799fc18",
   "metadata": {},
   "outputs": [],
   "source": [
    "from sklearn.model_selection import train_test_split   # importing module for splitting data into training and testing\n",
    "from sklearn.ensemble import RandomForestClassifier    # Importing Classifier\n",
    "from sklearn.metrics import accuracy_score,classification_report,confusion_matrix     # importing required methods from metrics module\n",
    "from sklearn.pipeline import Pipeline                  # importing module for pipelining of data\n",
    "from sklearn.feature_extraction.text import TfidfVectorizer                    # importing module to remove bag of words problem"
   ]
  },
  {
   "cell_type": "code",
   "execution_count": 62,
   "id": "b413178e",
   "metadata": {},
   "outputs": [],
   "source": [
    "x_train,x_test,y_train,y_test=train_test_split(data['message'],data['label'],test_size=0.3,shuffle=True,stratify=data['label'])           # partitioning of data"
   ]
  },
  {
   "cell_type": "code",
   "execution_count": 63,
   "id": "1b1ddbe1",
   "metadata": {},
   "outputs": [
    {
     "data": {
      "text/plain": [
       "(1045,)"
      ]
     },
     "execution_count": 63,
     "metadata": {},
     "output_type": "execute_result"
    }
   ],
   "source": [
    "x_train.shape          # checking shape of train data of x"
   ]
  },
  {
   "cell_type": "code",
   "execution_count": 64,
   "id": "4b23a5ee",
   "metadata": {},
   "outputs": [
    {
     "data": {
      "text/plain": [
       "1467    spam\n",
       "638      ham\n",
       "943     spam\n",
       "1196    spam\n",
       "0        ham\n",
       "        ... \n",
       "57       ham\n",
       "708      ham\n",
       "251      ham\n",
       "1219    spam\n",
       "258      ham\n",
       "Name: label, Length: 1045, dtype: object"
      ]
     },
     "execution_count": 64,
     "metadata": {},
     "output_type": "execute_result"
    }
   ],
   "source": [
    "y_train               # Viewing y train"
   ]
  },
  {
   "cell_type": "code",
   "execution_count": 65,
   "id": "6521803f",
   "metadata": {},
   "outputs": [
    {
     "data": {
      "text/plain": [
       "1467    A £400 XMAS REWARD IS WAITING FOR YOU! Our com...\n",
       "638           Can not use foreign stamps in this country.\n",
       "943     FREE2DAY sexy St George's Day pic of Jordan!Tx...\n",
       "1196    Please CALL 08712402972 immediately as there i...\n",
       "0       Aiyah ok wat as long as got improve can alread...\n",
       "                              ...                        \n",
       "57      I forgot 2 ask ü all smth.. There's a card on ...\n",
       "708     Short But Cute: \"Be a good person, but dont tr...\n",
       "251     Dear, take care. I am just reaching home.love ...\n",
       "1219    Rock yr chik. Get 100's of filthy films &XXX p...\n",
       "258     Cheers for the message Zogtorius. Ive been st...\n",
       "Name: message, Length: 1045, dtype: object"
      ]
     },
     "execution_count": 65,
     "metadata": {},
     "output_type": "execute_result"
    }
   ],
   "source": [
    "x_train               # Viewing x train"
   ]
  },
  {
   "cell_type": "code",
   "execution_count": 66,
   "id": "7c3d791d",
   "metadata": {},
   "outputs": [],
   "source": [
    "vectorizer=TfidfVectorizer()               # initializing variable for Tfidf vectorization"
   ]
  },
  {
   "cell_type": "code",
   "execution_count": 67,
   "id": "322d3d2c",
   "metadata": {},
   "outputs": [],
   "source": [
    "X_train=vectorizer.fit_transform(x_train)   # making fit the data"
   ]
  },
  {
   "cell_type": "code",
   "execution_count": 68,
   "id": "666788b8",
   "metadata": {},
   "outputs": [
    {
     "data": {
      "text/plain": [
       "(1045, 3786)"
      ]
     },
     "execution_count": 68,
     "metadata": {},
     "output_type": "execute_result"
    }
   ],
   "source": [
    "X_train.shape                                # checking shape"
   ]
  },
  {
   "cell_type": "code",
   "execution_count": 69,
   "id": "40c8909b",
   "metadata": {},
   "outputs": [
    {
     "data": {
      "text/plain": [
       "<1045x3786 sparse matrix of type '<class 'numpy.float64'>'\n",
       "\twith 17698 stored elements in Compressed Sparse Row format>"
      ]
     },
     "execution_count": 69,
     "metadata": {},
     "output_type": "execute_result"
    }
   ],
   "source": [
    "X_train                                      # viewing x train"
   ]
  },
  {
   "cell_type": "code",
   "execution_count": 71,
   "id": "01e1f431",
   "metadata": {},
   "outputs": [],
   "source": [
    "clf=Pipeline([('tfidf',TfidfVectorizer()),('clf',RandomForestClassifier(n_estimators=100,n_jobs=-1))])       # provbiding function for classification "
   ]
  },
  {
   "cell_type": "code",
   "execution_count": 72,
   "id": "1a71687c",
   "metadata": {},
   "outputs": [
    {
     "data": {
      "text/plain": [
       "Pipeline(steps=[('tfidf', TfidfVectorizer()),\n",
       "                ('clf', RandomForestClassifier(n_jobs=-1))])"
      ]
     },
     "execution_count": 72,
     "metadata": {},
     "output_type": "execute_result"
    }
   ],
   "source": [
    "clf.fit(x_train,y_train)                                       # making fit the data into the classifier"
   ]
  },
  {
   "cell_type": "code",
   "execution_count": 73,
   "id": "adc84744",
   "metadata": {},
   "outputs": [],
   "source": [
    "y_prediction=clf.predict(x_test)                               # providing prediction function "
   ]
  },
  {
   "cell_type": "code",
   "execution_count": 74,
   "id": "5eac3bbb",
   "metadata": {},
   "outputs": [
    {
     "data": {
      "text/plain": [
       "array([[223,   2],\n",
       "       [ 18, 206]], dtype=int64)"
      ]
     },
     "execution_count": 74,
     "metadata": {},
     "output_type": "execute_result"
    }
   ],
   "source": [
    "confusion_matrix(y_test,y_prediction)                          # viewing confusion matrix for training and testing"
   ]
  },
  {
   "cell_type": "code",
   "execution_count": 75,
   "id": "aaaba03f",
   "metadata": {},
   "outputs": [
    {
     "data": {
      "text/plain": [
       "0.955456570155902"
      ]
     },
     "execution_count": 75,
     "metadata": {},
     "output_type": "execute_result"
    }
   ],
   "source": [
    "accuracy_score(y_test,y_prediction)                            # viewing accuracy score"
   ]
  },
  {
   "cell_type": "code",
   "execution_count": 76,
   "id": "f3df4818",
   "metadata": {},
   "outputs": [
    {
     "data": {
      "text/plain": [
       "array(['spam'], dtype=object)"
      ]
     },
     "execution_count": 76,
     "metadata": {},
     "output_type": "execute_result"
    }
   ],
   "source": [
    "clf.predict(['hey,this is a mail from kaggle to know your consern about the offer letter send to you. please pay $5000 to join on the given no. 9999******'])      # Checking for new input"
   ]
  },
  {
   "cell_type": "code",
   "execution_count": 77,
   "id": "1e6e2ee8",
   "metadata": {},
   "outputs": [
    {
     "data": {
      "text/plain": [
       "array(['ham'], dtype=object)"
      ]
     },
     "execution_count": 77,
     "metadata": {},
     "output_type": "execute_result"
    }
   ],
   "source": [
    "clf.predict(['this is a google verified mail to tell that your account was logged in from different device '])   # Checking for new input data"
   ]
  },
  {
   "cell_type": "markdown",
   "id": "2b032d25",
   "metadata": {},
   "source": [
    "# Going through Support vactor machine concept"
   ]
  },
  {
   "cell_type": "code",
   "execution_count": 78,
   "id": "6859092b",
   "metadata": {},
   "outputs": [],
   "source": [
    "from sklearn.svm import SVC          # importing support vector classifier from SVM"
   ]
  },
  {
   "cell_type": "code",
   "execution_count": 79,
   "id": "f3822d20",
   "metadata": {},
   "outputs": [],
   "source": [
    "clf=Pipeline([('tfidf',TfidfVectorizer()),('clf',SVC(C=1,gamma='auto'))])    # providing classifier function for computing"
   ]
  },
  {
   "cell_type": "code",
   "execution_count": 80,
   "id": "fa92b55b",
   "metadata": {},
   "outputs": [
    {
     "data": {
      "text/plain": [
       "Pipeline(steps=[('tfidf', TfidfVectorizer()), ('clf', SVC(C=1, gamma='auto'))])"
      ]
     },
     "execution_count": 80,
     "metadata": {},
     "output_type": "execute_result"
    }
   ],
   "source": [
    "clf.fit(x_train,y_train)                      # making data to fit "
   ]
  },
  {
   "cell_type": "code",
   "execution_count": 81,
   "id": "4b3bd821",
   "metadata": {},
   "outputs": [],
   "source": [
    "y_pred=clf.predict(x_test)                    # providing function for prediction"
   ]
  },
  {
   "cell_type": "code",
   "execution_count": 82,
   "id": "d1e22dfd",
   "metadata": {},
   "outputs": [
    {
     "data": {
      "text/plain": [
       "array([[  0, 225],\n",
       "       [  0, 224]], dtype=int64)"
      ]
     },
     "execution_count": 82,
     "metadata": {},
     "output_type": "execute_result"
    }
   ],
   "source": [
    "confusion_matrix(y_test,y_pred)               # Checking for confusion matrix"
   ]
  },
  {
   "cell_type": "code",
   "execution_count": 83,
   "id": "86522acc",
   "metadata": {},
   "outputs": [
    {
     "data": {
      "text/plain": [
       "0.49888641425389757"
      ]
     },
     "execution_count": 83,
     "metadata": {},
     "output_type": "execute_result"
    }
   ],
   "source": [
    "accuracy_score(y_test,y_pred)                 # checking for accuracy score"
   ]
  },
  {
   "cell_type": "markdown",
   "id": "85e266de",
   "metadata": {},
   "source": [
    "# hence RandomForestClassifier give us best result"
   ]
  }
 ],
 "metadata": {
  "kernelspec": {
   "display_name": "Python 3",
   "language": "python",
   "name": "python3"
  },
  "language_info": {
   "codemirror_mode": {
    "name": "ipython",
    "version": 3
   },
   "file_extension": ".py",
   "mimetype": "text/x-python",
   "name": "python",
   "nbconvert_exporter": "python",
   "pygments_lexer": "ipython3",
   "version": "3.8.8"
  }
 },
 "nbformat": 4,
 "nbformat_minor": 5
}
